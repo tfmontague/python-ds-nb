{
 "cells": [
  {
   "cell_type": "markdown",
   "metadata": {},
   "source": [
    "# Web Mining and Applied NLP (44-620)\n",
    "\n",
    "## Python Notebooks, Basics, and Data Structures\n",
    "\n",
    "### Student Name: Topaz Montague\n",
    "\n",
    "### Clickable Link to GitHub Repo: [TFMONTAGUE's GitHub Repo for P2: Employ Python Data Structures, Notebooks & Engage ](https://github.com/tfmontague/python-ds-nb)\n",
    "\n",
    "\n",
    "Perform the tasks described in the Markdown cells below.  When you have completed the assignment make sure your code cells have all been run (and have output beneath them) and ensure you have committed and pushed ALL of your changes to your assignment repository.\n",
    "\n",
    "Every question that requires you to write code will have a code cell underneath it; you may either write your entire solution in that cell or write it in a python file (`.py`), then import and run the appropriate code to answer the question.\n",
    "\n",
    "Do not use external modules (`math`, etc) for this assignment unless you are explicitly instructed to, though you may use built in python functions (`min`, `max`, etc) as you wish."
   ]
  },
  {
   "cell_type": "markdown",
   "metadata": {},
   "source": [
    "1. Modify the Markdown cell above to put your name after \"Student Name:\"; you will be expected to do this in all assignments presented in this format for this class."
   ]
  },
  {
   "cell_type": "markdown",
   "metadata": {},
   "source": [
    "2. Write code that divides any two numbers, stores the result in a variable, and prints the result with an appropriate label."
   ]
  },
  {
   "cell_type": "markdown",
   "metadata": {},
   "source": [
    "##### Question 2 Response:"
   ]
  },
  {
   "cell_type": "code",
   "execution_count": 45,
   "metadata": {},
   "outputs": [
    {
     "name": "stdout",
     "output_type": "stream",
     "text": [
      "The result of 18 / 6 is 3.0\n"
     ]
    }
   ],
   "source": [
    "result = 18/6\n",
    "print('The result of 18 / 6 is', result)"
   ]
  },
  {
   "cell_type": "markdown",
   "metadata": {},
   "source": [
    "3. Using loops (and potentially conditionals), write Python code that prints the factorial of each integer from 1 through 10 (which you can store in a variable if you want). The factorial of an integer is the product of all of the integers of 1 through the number. Print the result with an appropriate label."
   ]
  },
  {
   "cell_type": "markdown",
   "metadata": {},
   "source": [
    "##### Question 3 Response:"
   ]
  },
  {
   "cell_type": "code",
   "execution_count": 46,
   "metadata": {},
   "outputs": [
    {
     "name": "stdout",
     "output_type": "stream",
     "text": [
      "The factorial of 1 is: 1\n",
      "The factorial of 2 is: 2\n",
      "The factorial of 3 is: 6\n",
      "The factorial of 4 is: 24\n",
      "The factorial of 5 is: 120\n",
      "The factorial of 6 is: 720\n",
      "The factorial of 7 is: 5040\n",
      "The factorial of 8 is: 40320\n",
      "The factorial of 9 is: 362880\n",
      "The factorial of 10 is: 3628800\n"
     ]
    }
   ],
   "source": [
    "def factorial(n):\n",
    "    \"\"\"Calculate the factorial of n (n!).\"\"\"\n",
    "    if n == 0 or n == 1:\n",
    "        return 1\n",
    "    else:\n",
    "        return n * factorial(n-1)\n",
    "\n",
    "# Loop through each integer from 1 through 10\n",
    "for i in range(1, 11):\n",
    "    # Calculate factorial and print the result\n",
    "    print(f\"The factorial of {i} is: {factorial(i)}\")"
   ]
  },
  {
   "cell_type": "markdown",
   "metadata": {},
   "source": [
    "4. Write a python function that takes a single parameter and calculates and returns the average (mean) of the values in the parameter (which you may assume is iterable).  Show that your function works by printing the result of calling the function on the list in the cell below."
   ]
  },
  {
   "cell_type": "markdown",
   "metadata": {},
   "source": [
    "##### Question 4 Response:"
   ]
  },
  {
   "cell_type": "code",
   "execution_count": 47,
   "metadata": {},
   "outputs": [
    {
     "name": "stdout",
     "output_type": "stream",
     "text": [
      "The average of the list is: 0.0\n"
     ]
    }
   ],
   "source": [
    "def calculate_average(values):\n",
    "    return sum(values) / len(values)\n",
    "\n",
    "# Test the function with the provided list\n",
    "testlist = [1, -1, 2, -2, 3, -3, 4, -4]\n",
    "average_result = calculate_average(testlist)\n",
    "\n",
    "# Print the result\n",
    "print(f\"The average of the list is: {average_result}\")\n"
   ]
  },
  {
   "cell_type": "markdown",
   "metadata": {},
   "source": [
    "5. Using your mean function above, write a function that calculates the variance of the list of numbers (see https://en.wikipedia.org/wiki/Variance for more information on the formula). In short:\n",
    "* subtract the mean of the elements in the list from every element in the list; store these values in a new list\n",
    "* square every element in the new list and sum the elements together\n",
    "* divide the resulting number by N (where N is the length of the original list)\n",
    "\n",
    "Show the result of calling your function in the lists in the code cell. You must use one or more list comprehensions or map/filter in your code.\n"
   ]
  },
  {
   "cell_type": "markdown",
   "metadata": {},
   "source": [
    "##### Question 5 Response:"
   ]
  },
  {
   "cell_type": "code",
   "execution_count": 48,
   "metadata": {},
   "outputs": [
    {
     "name": "stdout",
     "output_type": "stream",
     "text": [
      "The variance of list1 is: 1.13973309\n",
      "The variance of list2 is: 0.9257232841\n"
     ]
    }
   ],
   "source": [
    "def calculate_variance(values):\n",
    "    # Calculate the mean of the values\n",
    "    mean_value = sum(values) / len(values)\n",
    "    \n",
    "    # Subtract the mean from every element and square the result\n",
    "    squared_differences = [(x - mean_value) ** 2 for x in values]\n",
    "    \n",
    "    # Sum the squared differences and divide by N\n",
    "    variance = sum(squared_differences) / len(values)\n",
    "    \n",
    "    return variance\n",
    "\n",
    "# Test lists\n",
    "list1 = [5.670e-1, -1.480e+0, -5.570e-1, -1.470e+0, 7.340e-1, 1.050e+0, 4.480e-1, 2.570e-1, -1.970e+0, -1.460e+0]\n",
    "list2 = [-1.780e+0, 2.640e-1, 1.160e+0, 9.080e-1, 1.780e+0, 1.080e+0, 1.050e+0, -4.630e-2, 1.520e+0, 5.350e-1]\n",
    "\n",
    "# Calculate the variances\n",
    "variance1 = calculate_variance(list1)\n",
    "variance2 = calculate_variance(list2)\n",
    "\n",
    "# Printing the results\n",
    "print(f\"The variance of list1 is: {variance1}\")\n",
    "print(f\"The variance of list2 is: {variance2}\")\n"
   ]
  },
  {
   "cell_type": "markdown",
   "metadata": {},
   "source": [
    "6. Create a list with at least 15 elements in it. Use list slicing to print the following:\n",
    "* The first 5 elements of the list\n",
    "* The last 5 elements of the list\n",
    "* The list reversed (hint, show the entire list with a stride of -1)\n",
    "* Every second element in the list\n",
    "* Every third element in the list (stride of 3)"
   ]
  },
  {
   "cell_type": "markdown",
   "metadata": {},
   "source": [
    "##### Question 6 Response:"
   ]
  },
  {
   "cell_type": "code",
   "execution_count": 49,
   "metadata": {},
   "outputs": [
    {
     "name": "stdout",
     "output_type": "stream",
     "text": [
      "The first 5 elements: [11, 12, 13, 14, 15]\n",
      "The last 5 elements: [21, 22, 23, 24, 25]\n",
      "The list reversed: [25, 24, 23, 22, 21, 20, 19, 18, 17, 16, 15, 14, 13, 12, 11]\n",
      "Every second element: [12, 14, 16, 18, 20, 22, 24]\n",
      "Every third element: [11, 14, 17, 20, 23]\n"
     ]
    }
   ],
   "source": [
    "# Create a list with at least 15 elements\n",
    "my_list = [11, 12, 13, 14, 15, 16, 17, 18, 19, 20, 21, 22, 23, 24, 25]\n",
    "\n",
    "# Print the first 5 elements of the list\n",
    "print(\"The first 5 elements:\", my_list[:5])\n",
    "\n",
    "# Print the last 5 elements of the list\n",
    "print(\"The last 5 elements:\", my_list[-5:])\n",
    "\n",
    "# Print the list reversed\n",
    "print(\"The list reversed:\", my_list[::-1])\n",
    "\n",
    "# Print every second element in the list\n",
    "print(\"Every second element:\", my_list[1::2])\n",
    "\n",
    "# Print every third element in the list\n",
    "print(\"Every third element:\", my_list[::3])"
   ]
  },
  {
   "cell_type": "markdown",
   "metadata": {},
   "source": [
    "7. Build a dictionary that contains the following information about this class (with appropriate names as keys):\n",
    "* The name\n",
    "* The course number\n",
    "* The semester/term in which you are taking this course\n",
    "* The number of credit hours this course counts for\n",
    "* A list of the course learning objectives\n",
    "\n",
    "The majority of this information can be found in the syllabus. Print the dictionary."
   ]
  },
  {
   "cell_type": "markdown",
   "metadata": {},
   "source": [
    "##### Question 7 Response:"
   ]
  },
  {
   "cell_type": "code",
   "execution_count": 50,
   "metadata": {},
   "outputs": [
    {
     "name": "stdout",
     "output_type": "stream",
     "text": [
      "{'Course name': 'Web Mining and Applied Natural Language Processing', 'Course number': '44-620', 'Semester/term course taken': 'Spring 2024-OP2', 'Course credit hours': '3 credits', 'List of course learning objectives': ['Demonstrate a common Git workflow. (CO2)', 'Install Python packages in a Virtual Environment. (CO1)', 'Demonstrate basic Python competency (CO3, CO5)', 'Work with Python Data Structures  (CO3, CO5)', 'Interact with Python Notebooks (CO1, CO2, CO3, CO5)', 'Use Git to manage source code. (CO2)', 'Visualize common types of data with Matplotlib. (CO2, CO6)', 'Explain conclusions drawn from visualizations. (CO6)', 'Describe how to embed advanced visualizations in Notebooks, such as those in D3.js. (CO1, CO3, CO5, CO6)', 'Describe the characteristics of JSON. (CO3)', 'Describe a basic Natural Language Processing Pipeline. (CO4)', 'Access web-based APIs for data. (CO2, CO3)', 'Apply basic NLP and visualize result. (CO3, CO5, CO6)', 'Describe the characteristics of XML/HTML and CSS. (CO3)', 'Identify elements of a web page. (CO3)', 'Retrieve web page programmatically. (CO3)', 'Parse HTML to search for desired elements. (CO3)', 'Apply NLP to web text. (CO3, CO5)', 'Visualize results from processed web text. (CO6)', 'Build on core course concepts though the final project. (CO1, CO2, CO3, CO4, CO5, CO6)']}\n"
     ]
    }
   ],
   "source": [
    "course_info = {\n",
    "    \"Course name\": \"Web Mining and Applied Natural Language Processing\",\n",
    "    \"Course number\": \"44-620\",\n",
    "    \"Semester/term course taken\": \"Spring 2024-OP2\",\n",
    "    \"Course credit hours\": \"3 credits\",\n",
    "    \"List of course learning objectives\": [\n",
    "        \"Demonstrate a common Git workflow. (CO2)\",\n",
    "        \"Install Python packages in a Virtual Environment. (CO1)\",\n",
    "        \"Demonstrate basic Python competency (CO3, CO5)\",\n",
    "        \"Work with Python Data Structures  (CO3, CO5)\",\n",
    "        \"Interact with Python Notebooks (CO1, CO2, CO3, CO5)\",\n",
    "        \"Use Git to manage source code. (CO2)\",\n",
    "        \"Visualize common types of data with Matplotlib. (CO2, CO6)\",\n",
    "        \"Explain conclusions drawn from visualizations. (CO6)\",\n",
    "        \"Describe how to embed advanced visualizations in Notebooks, such as those in D3.js. (CO1, CO3, CO5, CO6)\",\n",
    "        \"Describe the characteristics of JSON. (CO3)\",\n",
    "        \"Describe a basic Natural Language Processing Pipeline. (CO4)\",\n",
    "        \"Access web-based APIs for data. (CO2, CO3)\",\n",
    "        \"Apply basic NLP and visualize result. (CO3, CO5, CO6)\",\n",
    "        \"Describe the characteristics of XML/HTML and CSS. (CO3)\",\n",
    "        \"Identify elements of a web page. (CO3)\",\n",
    "        \"Retrieve web page programmatically. (CO3)\",\n",
    "        \"Parse HTML to search for desired elements. (CO3)\",\n",
    "        \"Apply NLP to web text. (CO3, CO5)\",\n",
    "        \"Visualize results from processed web text. (CO6)\",\n",
    "        \"Build on core course concepts though the final project. (CO1, CO2, CO3, CO4, CO5, CO6)\"\n",
    "    ]\n",
    "}\n",
    "\n",
    "print(course_info)"
   ]
  },
  {
   "cell_type": "markdown",
   "metadata": {},
   "source": [
    "8.  Given the dictionary defined in the code cell below, print the list of level 3 spells the character has."
   ]
  },
  {
   "cell_type": "markdown",
   "metadata": {},
   "source": [
    "##### Question 8 Response:"
   ]
  },
  {
   "cell_type": "code",
   "execution_count": 51,
   "metadata": {},
   "outputs": [
    {
     "name": "stdout",
     "output_type": "stream",
     "text": [
      "Level 3 Spells: ['Mass Healing Word', 'Nondetection', 'Revivify', 'Feign Death', 'Speak with Dead']\n"
     ]
    }
   ],
   "source": [
    "player_character = {'name': 'Kitab',\n",
    "                   'class': [('Cleric: Knowledge', 7)],\n",
    "                   'spells': {'cantrip': ['Guidance', 'Light', 'Thaumaturgy', 'Toll the Dead', 'Word of Radiance'],\n",
    "                             'level 1': ['Command', 'Detect Magic', 'Healing Word', 'Identify', 'Sleep'],\n",
    "                             'level 2': ['Augury', 'Calm Emotions', 'Command', 'Invisibility', 'Lesser Restoration'],\n",
    "                             'level 3': ['Mass Healing Word', 'Nondetection', 'Revivify', 'Feign Death', 'Speak with Dead'],\n",
    "                             'level 4': ['Banishment', 'Confusion']}\n",
    "                   }\n",
    "\n",
    "# Print the list of level 3 spells\n",
    "print(\"Level 3 Spells:\", player_character['spells']['level 3'])"
   ]
  },
  {
   "cell_type": "markdown",
   "metadata": {},
   "source": [
    "9. Write code to determine the number of unique elements in the list below.  You MUST use a set in finding your solution.  Print the number of unique values in the list with an appropriate label."
   ]
  },
  {
   "cell_type": "markdown",
   "metadata": {},
   "source": [
    "##### Question 9 Response:"
   ]
  },
  {
   "cell_type": "code",
   "execution_count": 52,
   "metadata": {},
   "outputs": [
    {
     "name": "stdout",
     "output_type": "stream",
     "text": [
      "Number of unique values in the list: 12\n"
     ]
    }
   ],
   "source": [
    "values = [10, 11, 10, 8, 1, 12, 0, 1, 6, 5, 5, 13, 6, 15, 0, 0, 1, 1, 9, 7]\n",
    "\n",
    "# Convert the list to a set to remove duplicates\n",
    "unique_values = set(values)\n",
    "\n",
    "# Count the number of elements in the set\n",
    "unique_count = len(unique_values)\n",
    "\n",
    "# Print the result\n",
    "print(f\"Number of unique values in the list: {unique_count}\")"
   ]
  },
  {
   "cell_type": "markdown",
   "metadata": {},
   "source": [
    "10. Create a new Jupyter Notebook (the name of the notebook should be your S number). Add a Markdown cell that contains your name. Add a Code cell and write Python that uses loops to draw the following pattern:\n",
    "\n",
    "```\n",
    "*      *\n",
    "**    **\n",
    "***  ***\n",
    "********\n",
    "```\n",
    "Make sure to add and submit both the new notebook and the changes to this notebook for this assignment."
   ]
  },
  {
   "cell_type": "markdown",
   "metadata": {},
   "source": [
    "##### see Question 10 Response at [s572397 Juypter Notebook](https://github.com/tfmontague/python-ds-nb/blob/main/s572397.ipynb)"
   ]
  }
 ],
 "metadata": {
  "kernelspec": {
   "display_name": "Python 3",
   "language": "python",
   "name": "python3"
  },
  "language_info": {
   "codemirror_mode": {
    "name": "ipython",
    "version": 3
   },
   "file_extension": ".py",
   "mimetype": "text/x-python",
   "name": "python",
   "nbconvert_exporter": "python",
   "pygments_lexer": "ipython3",
   "version": "3.12.1"
  }
 },
 "nbformat": 4,
 "nbformat_minor": 4
}
